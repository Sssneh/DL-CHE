{
 "cells": [
  {
   "cell_type": "markdown",
   "id": "45c976b2-44fe-486d-8720-902f9187cd01",
   "metadata": {},
   "source": [
    "# IMPORTING NECESSARY LIBRARIES"
   ]
  },
  {
   "cell_type": "code",
   "execution_count": 1,
   "id": "94ddadb0-12c7-473e-93cb-995cc504f342",
   "metadata": {
    "tags": []
   },
   "outputs": [],
   "source": [
    "import cv2\n",
    "import libopencv"
   ]
  },
  {
   "cell_type": "code",
   "execution_count": 42,
   "id": "97186945-11bf-46c1-9367-ec86143b1c37",
   "metadata": {
    "tags": []
   },
   "outputs": [],
   "source": [
    "import pandas as pd\n",
    "import tensorflow as tf\n",
    "import matplotlib.pyplot as plt\n",
    "import os\n",
    "from __future__ import print_function\n",
    "import numpy as np\n",
    "from tensorflow import keras\n",
    "from keras import layers\n",
    "from keras.models import Sequential, Model\n",
    "from keras.layers import GlobalMaxPooling2D , MaxPool2D\n",
    "from keras.layers import GlobalAveragePooling2D\n",
    "from keras.preprocessing import image\n",
    "from keras.utils import layer_utils\n",
    "from keras.utils.data_utils import get_file\n",
    "from keras import backend as K\n",
    "from keras.applications.imagenet_utils import decode_predictions\n",
    "from keras.applications.imagenet_utils import preprocess_input\n",
    "from tensorflow.keras.layers import Conv2D,Dense,Flatten,MaxPooling2D,Dropout,AveragePooling2D,concatenate"
   ]
  },
  {
   "cell_type": "code",
   "execution_count": 3,
   "id": "73f82eee",
   "metadata": {},
   "outputs": [
    {
     "data": {
      "text/plain": [
       "['.ipynb_checkpoints',\n",
       " 'aug',\n",
       " 'augmentation.ipynb',\n",
       " 'cnn_cfd.ipynb',\n",
       " 'data',\n",
       " 'LAMINAR_TEST.png',\n",
       " 'log',\n",
       " 'turbulent.jpeg',\n",
       " 'TURBULENT_TEST.png',\n",
       " 'U_30_d_3_n_10^-1.png']"
      ]
     },
     "execution_count": 3,
     "metadata": {},
     "output_type": "execute_result"
    }
   ],
   "source": [
    "dataset_path = os.listdir()\n",
    "dataset_path"
   ]
  },
  {
   "cell_type": "code",
   "execution_count": 4,
   "id": "4bbef210",
   "metadata": {},
   "outputs": [
    {
     "data": {
      "text/plain": [
       "['laminar', 'turbulent']"
      ]
     },
     "execution_count": 4,
     "metadata": {},
     "output_type": "execute_result"
    }
   ],
   "source": [
    "image_type = os.listdir('data')\n",
    "image_type"
   ]
  },
  {
   "cell_type": "code",
   "execution_count": 5,
   "id": "884538a7",
   "metadata": {},
   "outputs": [
    {
     "name": "stdout",
     "output_type": "stream",
     "text": [
      "291\n",
      "2\n"
     ]
    }
   ],
   "source": [
    "images = []\n",
    "for item in image_type:\n",
    "    image_path = os.listdir('data'+'/'+item)\n",
    "    for img in image_path:\n",
    "        images.append((item,str('data'+'/'+item)+'/'+img))\n",
    "print(len(images))\n",
    "print(len(images[0]))"
   ]
  },
  {
   "cell_type": "code",
   "execution_count": 6,
   "id": "899a7999",
   "metadata": {},
   "outputs": [
    {
     "data": {
      "text/html": [
       "<div>\n",
       "<style scoped>\n",
       "    .dataframe tbody tr th:only-of-type {\n",
       "        vertical-align: middle;\n",
       "    }\n",
       "\n",
       "    .dataframe tbody tr th {\n",
       "        vertical-align: top;\n",
       "    }\n",
       "\n",
       "    .dataframe thead th {\n",
       "        text-align: right;\n",
       "    }\n",
       "</style>\n",
       "<table border=\"1\" class=\"dataframe\">\n",
       "  <thead>\n",
       "    <tr style=\"text-align: right;\">\n",
       "      <th></th>\n",
       "      <th>image_type</th>\n",
       "      <th>image</th>\n",
       "    </tr>\n",
       "  </thead>\n",
       "  <tbody>\n",
       "    <tr>\n",
       "      <th>0</th>\n",
       "      <td>laminar</td>\n",
       "      <td>data/laminar/lamianr.png</td>\n",
       "    </tr>\n",
       "    <tr>\n",
       "      <th>1</th>\n",
       "      <td>laminar</td>\n",
       "      <td>data/laminar/laminar.jpg</td>\n",
       "    </tr>\n",
       "    <tr>\n",
       "      <th>2</th>\n",
       "      <td>laminar</td>\n",
       "      <td>data/laminar/laminar1.png</td>\n",
       "    </tr>\n",
       "    <tr>\n",
       "      <th>3</th>\n",
       "      <td>laminar</td>\n",
       "      <td>data/laminar/laminar10.png</td>\n",
       "    </tr>\n",
       "    <tr>\n",
       "      <th>4</th>\n",
       "      <td>laminar</td>\n",
       "      <td>data/laminar/laminar11.png</td>\n",
       "    </tr>\n",
       "  </tbody>\n",
       "</table>\n",
       "</div>"
      ],
      "text/plain": [
       "  image_type                       image\n",
       "0    laminar    data/laminar/lamianr.png\n",
       "1    laminar    data/laminar/laminar.jpg\n",
       "2    laminar   data/laminar/laminar1.png\n",
       "3    laminar  data/laminar/laminar10.png\n",
       "4    laminar  data/laminar/laminar11.png"
      ]
     },
     "execution_count": 6,
     "metadata": {},
     "output_type": "execute_result"
    }
   ],
   "source": [
    "image_df = pd.DataFrame(data=images,columns=['image_type','image'])\n",
    "image_df.head()"
   ]
  },
  {
   "cell_type": "code",
   "execution_count": 7,
   "id": "eff85141",
   "metadata": {},
   "outputs": [
    {
     "data": {
      "text/plain": [
       "image_type\n",
       "turbulent    154\n",
       "laminar      137\n",
       "dtype: int64"
      ]
     },
     "execution_count": 7,
     "metadata": {},
     "output_type": "execute_result"
    }
   ],
   "source": [
    "image_df.value_counts('image_type')"
   ]
  },
  {
   "cell_type": "code",
   "execution_count": 8,
   "id": "63ba71d0",
   "metadata": {},
   "outputs": [
    {
     "data": {
      "text/plain": [
       "(291, 256, 512, 3)"
      ]
     },
     "execution_count": 8,
     "metadata": {},
     "output_type": "execute_result"
    }
   ],
   "source": [
    "img = []\n",
    "label = []\n",
    "for item in images:\n",
    "    pic = cv2.imread(item[1])\n",
    "    pic = cv2.resize(pic,(512,256))\n",
    "    img.append(pic)\n",
    "    label.append(item[0])\n",
    "img = np.array(img)\n",
    "img.shape"
   ]
  },
  {
   "cell_type": "code",
   "execution_count": 9,
   "id": "4473f799",
   "metadata": {},
   "outputs": [
    {
     "name": "stdout",
     "output_type": "stream",
     "text": [
      "(291, 1)\n"
     ]
    }
   ],
   "source": [
    "from sklearn.preprocessing import LabelEncoder, OneHotEncoder\n",
    "y = image_df['image_type'].values\n",
    "y_labelencoder = LabelEncoder()\n",
    "y = y_labelencoder.fit_transform(y)\n",
    "y = y.reshape(-1,1)\n",
    "# y_hot = OneHotEncoder()\n",
    "# y = y_hot.fit_transform(y)\n",
    "print(y.shape)"
   ]
  },
  {
   "cell_type": "code",
   "execution_count": 10,
   "id": "ef2c5404",
   "metadata": {},
   "outputs": [
    {
     "name": "stdout",
     "output_type": "stream",
     "text": [
      "(234, 256, 512, 3)\n",
      "(30, 256, 512, 3)\n",
      "(234, 1)\n",
      "(30, 1)\n",
      "(27, 256, 512, 3)\n",
      "(27, 1)\n"
     ]
    }
   ],
   "source": [
    "from sklearn.utils import shuffle\n",
    "from sklearn.model_selection import train_test_split\n",
    "\n",
    "img , y = shuffle(img,y,random_state=42)\n",
    "X_train_val,X_test,Y_train_val,Y_test = train_test_split(img,y,test_size=0.1,random_state=42)\n",
    "X_train,X_val,Y_train,Y_val = train_test_split(X_train_val,Y_train_val,test_size=0.1,random_state=42)\n",
    "print(X_train.shape)\n",
    "print(X_test.shape)\n",
    "print(Y_train.shape)\n",
    "print(Y_test.shape)\n",
    "print(X_val.shape)\n",
    "print(Y_val.shape)"
   ]
  },
  {
   "cell_type": "markdown",
   "id": "ae16c3d1",
   "metadata": {},
   "source": [
    "1 is assigned to turbulent and 0 is to laminar"
   ]
  },
  {
   "cell_type": "code",
   "execution_count": 11,
   "id": "e54dc3bf",
   "metadata": {},
   "outputs": [
    {
     "data": {
      "image/png": "[encoded data removed]",
      "text/plain": [
       "<Figure size 1440x1440 with 4 Axes>"
      ]
     },
     "metadata": {
      "needs_background": "light"
     },
     "output_type": "display_data"
    }
   ],
   "source": [
    "img, ax=plt.subplots(ncols=4, figsize=(20,20))\n",
    "for i in range(0,4):\n",
    "    ax[i].imshow(X_train[i])\n",
    "    ax[i].title.set_text(Y_train[i][0])\n",
    "# print(Y_train)"
   ]
  },
  {
   "cell_type": "code",
   "execution_count": 12,
   "id": "658531da-48aa-4670-a456-28890e8e190f",
   "metadata": {},
   "outputs": [],
   "source": [
    "logdir='log'"
   ]
  },
  {
   "cell_type": "code",
   "execution_count": 13,
   "id": "13766273-b170-4c34-a8cd-00be46bce9c9",
   "metadata": {},
   "outputs": [],
   "source": [
    "tensorboard_callback=tf.keras.callbacks.TensorBoard(log_dir=logdir)"
   ]
  },
  {
   "cell_type": "markdown",
   "id": "ff237afb-4fa8-478d-8f31-2c3fc07b46a0",
   "metadata": {},
   "source": [
    "# AlexNet"
   ]
  },
  {
   "cell_type": "code",
   "execution_count": 14,
   "id": "5667f64b",
   "metadata": {},
   "outputs": [],
   "source": [
    "AlexNet = keras.models.Sequential([\n",
    "    keras.layers.Conv2D(filters=96, kernel_size=(11,11), strides=(4,4), activation='relu', input_shape=(256,512,3)),\n",
    "    keras.layers.BatchNormalization(),\n",
    "    keras.layers.MaxPool2D(pool_size=(3,3), strides=(2,2)),\n",
    "    keras.layers.Conv2D(filters=256, kernel_size=(5,5), strides=(1,1), activation='relu', padding=\"same\"),\n",
    "    keras.layers.BatchNormalization(),\n",
    "    keras.layers.MaxPool2D(pool_size=(3,3), strides=(2,2)),\n",
    "    keras.layers.Conv2D(filters=384, kernel_size=(3,3), strides=(1,1), activation='relu', padding=\"same\"),\n",
    "    keras.layers.BatchNormalization(),\n",
    "    keras.layers.Conv2D(filters=384, kernel_size=(3,3), strides=(1,1), activation='relu', padding=\"same\"),\n",
    "    keras.layers.BatchNormalization(),\n",
    "    keras.layers.Conv2D(filters=256, kernel_size=(3,3), strides=(1,1), activation='relu', padding=\"same\"),\n",
    "    keras.layers.BatchNormalization(),\n",
    "    keras.layers.MaxPool2D(pool_size=(3,3), strides=(2,2)),\n",
    "    keras.layers.Flatten(),\n",
    "    keras.layers.Dense(4096, activation='relu'),\n",
    "    keras.layers.Dropout(0.5),\n",
    "    keras.layers.Dense(4096, activation='relu'),\n",
    "    keras.layers.Dropout(0.5),\n",
    "    keras.layers.Dense(1, activation='softmax')\n",
    "])"
   ]
  },
  {
   "cell_type": "code",
   "execution_count": 15,
   "id": "656ed45f-5eca-4260-8615-01dc15c086ad",
   "metadata": {},
   "outputs": [],
   "source": [
    "AlexNet.compile('adam',loss=tf.losses.BinaryCrossentropy(),metrics=['accuracy'])"
   ]
  },
  {
   "cell_type": "code",
   "execution_count": 16,
   "id": "badc26db",
   "metadata": {},
   "outputs": [
    {
     "name": "stdout",
     "output_type": "stream",
     "text": [
      "Model: \"sequential\"\n",
      "_________________________________________________________________\n",
      " Layer (type)                Output Shape              Param #   \n",
      "=================================================================\n",
      " conv2d (Conv2D)             (None, 62, 126, 96)       34944     \n",
      "                                                                 \n",
      " batch_normalization (BatchN  (None, 62, 126, 96)      384       \n",
      " ormalization)                                                   \n",
      "                                                                 \n",
      " max_pooling2d (MaxPooling2D  (None, 30, 62, 96)       0         \n",
      " )                                                               \n",
      "                                                                 \n",
      " conv2d_1 (Conv2D)           (None, 30, 62, 256)       614656    \n",
      "                                                                 \n",
      " batch_normalization_1 (Batc  (None, 30, 62, 256)      1024      \n",
      " hNormalization)                                                 \n",
      "                                                                 \n",
      " max_pooling2d_1 (MaxPooling  (None, 14, 30, 256)      0         \n",
      " 2D)                                                             \n",
      "                                                                 \n",
      " conv2d_2 (Conv2D)           (None, 14, 30, 384)       885120    \n",
      "                                                                 \n",
      " batch_normalization_2 (Batc  (None, 14, 30, 384)      1536      \n",
      " hNormalization)                                                 \n",
      "                                                                 \n",
      " conv2d_3 (Conv2D)           (None, 14, 30, 384)       1327488   \n",
      "                                                                 \n",
      " batch_normalization_3 (Batc  (None, 14, 30, 384)      1536      \n",
      " hNormalization)                                                 \n",
      "                                                                 \n",
      " conv2d_4 (Conv2D)           (None, 14, 30, 256)       884992    \n",
      "                                                                 \n",
      " batch_normalization_4 (Batc  (None, 14, 30, 256)      1024      \n",
      " hNormalization)                                                 \n",
      "                                                                 \n",
      " max_pooling2d_2 (MaxPooling  (None, 6, 14, 256)       0         \n",
      " 2D)                                                             \n",
      "                                                                 \n",
      " flatten (Flatten)           (None, 21504)             0         \n",
      "                                                                 \n",
      " dense (Dense)               (None, 4096)              88084480  \n",
      "                                                                 \n",
      " dropout (Dropout)           (None, 4096)              0         \n",
      "                                                                 \n",
      " dense_1 (Dense)             (None, 4096)              16781312  \n",
      "                                                                 \n",
      " dropout_1 (Dropout)         (None, 4096)              0         \n",
      "                                                                 \n",
      " dense_2 (Dense)             (None, 1)                 4097      \n",
      "                                                                 \n",
      "=================================================================\n",
      "Total params: 108,622,593\n",
      "Trainable params: 108,619,841\n",
      "Non-trainable params: 2,752\n",
      "_________________________________________________________________\n"
     ]
    }
   ],
   "source": [
    "AlexNet.summary()"
   ]
  },
  {
   "cell_type": "code",
   "execution_count": 20,
   "id": "0788fe7f",
   "metadata": {},
   "outputs": [
    {
     "name": "stdout",
     "output_type": "stream",
     "text": [
      "Epoch 1/5\n",
      "8/8 [==============================] - 33s 4s/step - loss: 11.8727 - accuracy: 0.5470 - val_loss: 1470.6334 - val_accuracy: 0.4444\n",
      "Epoch 2/5\n",
      "8/8 [==============================] - 36s 4s/step - loss: 3.2659 - accuracy: 0.5470 - val_loss: 6420.5649 - val_accuracy: 0.4444\n",
      "Epoch 3/5\n",
      "8/8 [==============================] - 36s 5s/step - loss: 1.3723 - accuracy: 0.5470 - val_loss: 2551.7705 - val_accuracy: 0.4444\n",
      "Epoch 4/5\n",
      "8/8 [==============================] - 36s 4s/step - loss: 2.2315 - accuracy: 0.5470 - val_loss: 3119.2410 - val_accuracy: 0.4444\n",
      "Epoch 5/5\n",
      "8/8 [==============================] - 36s 4s/step - loss: 1.5935 - accuracy: 0.5470 - val_loss: 4221.2363 - val_accuracy: 0.4444\n"
     ]
    }
   ],
   "source": [
    "hist = AlexNet.fit(X_train,Y_train,\n",
    "          epochs=5,\n",
    "          validation_data=(X_val,Y_val),\n",
    "          validation_freq=1,\n",
    "          callbacks=[tensorboard_callback])"
   ]
  },
  {
   "cell_type": "markdown",
   "id": "54dc961b-f048-4a11-b3dc-98169d091813",
   "metadata": {},
   "source": [
    "# PLOTTING LOSS FUNCTION AND VALIDATION LOSS VS EPOCHS"
   ]
  },
  {
   "cell_type": "code",
   "execution_count": 21,
   "id": "020a5600-856e-419e-8e9c-a2a0c7e25b5b",
   "metadata": {},
   "outputs": [
    {
     "data": {
      "image/png": "[encoded data removed]",
      "text/plain": [
       "<Figure size 432x288 with 1 Axes>"
      ]
     },
     "metadata": {
      "needs_background": "light"
     },
     "output_type": "display_data"
    }
   ],
   "source": [
    "fig=plt.figure()\n",
    "plt.plot(hist.history['loss'][1:],color='teal',label='loss',)\n",
    "plt.plot(hist.history['val_loss'][1:],color='red',label='val_loss')\n",
    "fig.suptitle('loss',fontsize='20')\n",
    "plt.legend(loc='upper left')\n",
    "plt.show()"
   ]
  },
  {
   "cell_type": "markdown",
   "id": "16bdd13c-624a-44df-ab41-ff7a34d23dbe",
   "metadata": {},
   "source": [
    "# PLOTTING ACCURACY"
   ]
  },
  {
   "cell_type": "code",
   "execution_count": 22,
   "id": "0555c93c-eec0-4bea-9c1a-e8507c6cf834",
   "metadata": {},
   "outputs": [
    {
     "data": {
      "image/png": "[encoded data removed]",
      "text/plain": [
       "<Figure size 432x288 with 1 Axes>"
      ]
     },
     "metadata": {
      "needs_background": "light"
     },
     "output_type": "display_data"
    }
   ],
   "source": [
    "fig=plt.figure()\n",
    "plt.plot(hist.history['accuracy'],color='teal',label='accuracy')\n",
    "plt.plot(hist.history['val_accuracy'],color='red',label='val_accuracy')\n",
    "fig.suptitle('accuracy',fontsize='20')\n",
    "plt.legend(loc='upper left')\n",
    "plt.show()"
   ]
  },
  {
   "cell_type": "code",
   "execution_count": 23,
   "id": "a9165ea1",
   "metadata": {},
   "outputs": [
    {
     "name": "stdout",
     "output_type": "stream",
     "text": [
      "1/1 [==============================] - 1s 843ms/step - loss: 4053.0608 - accuracy: 0.4667\n",
      "Loss = 4053.060791015625\n",
      "Test Accuracy = 0.46666666865348816\n"
     ]
    }
   ],
   "source": [
    "preds = AlexNet.evaluate(X_test, Y_test)\n",
    "print (\"Loss = \" + str(preds[0]))\n",
    "print (\"Test Accuracy = \" + str(preds[1]))"
   ]
  },
  {
   "cell_type": "markdown",
   "id": "377b4bbf",
   "metadata": {},
   "source": [
    "# Lenet-5"
   ]
  },
  {
   "cell_type": "markdown",
   "id": "b526b7d8-c09a-4b9d-8e80-40c134eeaa05",
   "metadata": {
    "tags": []
   },
   "source": [
    "# TESTING ON RANDOM INTERNET IMAGES TO CHECK OVERFITTING OF DATA\n",
    "## Model performed quite well on the unseen data from internet"
   ]
  },
  {
   "cell_type": "code",
   "execution_count": 35,
   "id": "462cf297",
   "metadata": {},
   "outputs": [],
   "source": [
    "Lenet = keras.Sequential()\n",
    "Lenet.add(layers.Conv2D(filters=6, kernel_size=(3, 3), activation='relu', input_shape=(256,512,3)))\n",
    "Lenet.add(layers.AveragePooling2D())\n",
    "\n",
    "Lenet.add(layers.Conv2D(filters=16, kernel_size=(3, 3), activation='relu'))\n",
    "Lenet.add(layers.AveragePooling2D())\n",
    "\n",
    "Lenet.add(layers.Flatten())\n",
    "\n",
    "Lenet.add(layers.Dense(units=120, activation='relu'))\n",
    "\n",
    "Lenet.add(layers.Dense(units=84, activation='relu'))\n",
    "\n",
    "Lenet.add(layers.Dense(units=1, activation = 'softmax'))"
   ]
  },
  {
   "cell_type": "code",
   "execution_count": 36,
   "id": "9fc4ca73",
   "metadata": {},
   "outputs": [
    {
     "name": "stdout",
     "output_type": "stream",
     "text": [
      "Model: \"sequential_4\"\n",
      "_________________________________________________________________\n",
      " Layer (type)                Output Shape              Param #   \n",
      "=================================================================\n",
      " conv2d_9 (Conv2D)           (None, 254, 510, 6)       168       \n",
      "                                                                 \n",
      " average_pooling2d_4 (Averag  (None, 127, 255, 6)      0         \n",
      " ePooling2D)                                                     \n",
      "                                                                 \n",
      " conv2d_10 (Conv2D)          (None, 125, 253, 16)      880       \n",
      "                                                                 \n",
      " average_pooling2d_5 (Averag  (None, 62, 126, 16)      0         \n",
      " ePooling2D)                                                     \n",
      "                                                                 \n",
      " flatten_3 (Flatten)         (None, 124992)            0         \n",
      "                                                                 \n",
      " dense_9 (Dense)             (None, 120)               14999160  \n",
      "                                                                 \n",
      " dense_10 (Dense)            (None, 84)                10164     \n",
      "                                                                 \n",
      " dense_11 (Dense)            (None, 1)                 85        \n",
      "                                                                 \n",
      "=================================================================\n",
      "Total params: 15,010,457\n",
      "Trainable params: 15,010,457\n",
      "Non-trainable params: 0\n",
      "_________________________________________________________________\n"
     ]
    }
   ],
   "source": [
    "Lenet.compile('adam',loss=tf.losses.BinaryCrossentropy(),metrics=['accuracy'])\n",
    "Lenet.summary()"
   ]
  },
  {
   "cell_type": "code",
   "execution_count": 37,
   "id": "46634ffa",
   "metadata": {},
   "outputs": [
    {
     "name": "stdout",
     "output_type": "stream",
     "text": [
      "Epoch 1/5\n",
      "8/8 [==============================] - 8s 800ms/step - loss: 910.5234 - accuracy: 0.5470 - val_loss: 217.5295 - val_accuracy: 0.4444\n",
      "Epoch 2/5\n",
      "8/8 [==============================] - 6s 783ms/step - loss: 172.0070 - accuracy: 0.5470 - val_loss: 99.9599 - val_accuracy: 0.4444\n",
      "Epoch 3/5\n",
      "8/8 [==============================] - 6s 802ms/step - loss: 51.9004 - accuracy: 0.5470 - val_loss: 11.0235 - val_accuracy: 0.4444\n",
      "Epoch 4/5\n",
      "8/8 [==============================] - 6s 753ms/step - loss: 8.9934 - accuracy: 0.5470 - val_loss: 2.9447 - val_accuracy: 0.4444\n",
      "Epoch 5/5\n",
      "8/8 [==============================] - 6s 793ms/step - loss: 7.5707 - accuracy: 0.5470 - val_loss: 10.7740 - val_accuracy: 0.4444\n"
     ]
    }
   ],
   "source": [
    "histL=Lenet.fit(X_train,Y_train,\n",
    "          epochs=5,\n",
    "          validation_data=(X_val,Y_val),\n",
    "          validation_freq=1,\n",
    "          callbacks=[tensorboard_callback])"
   ]
  },
  {
   "cell_type": "markdown",
   "id": "e0ca2cb3",
   "metadata": {},
   "source": [
    "# PLOTING LOSS FUNCTION AND VALIDATION LOSS VS EPOCHS"
   ]
  },
  {
   "cell_type": "code",
   "execution_count": 38,
   "id": "4f24c63e",
   "metadata": {},
   "outputs": [
    {
     "data": {
      "image/png": "[encoded data removed]",
      "text/plain": [
       "<Figure size 432x288 with 1 Axes>"
      ]
     },
     "metadata": {
      "needs_background": "light"
     },
     "output_type": "display_data"
    }
   ],
   "source": [
    "fig=plt.figure()\n",
    "plt.plot(histL.history['loss'][1:],color='teal',label='loss',)\n",
    "plt.plot(histL.history['val_loss'][1:],color='red',label='val_loss')\n",
    "fig.suptitle('loss',fontsize='20')\n",
    "plt.legend(loc='upper left')\n",
    "plt.show()"
   ]
  },
  {
   "cell_type": "markdown",
   "id": "fe5076db",
   "metadata": {},
   "source": [
    "# PLOTTING ACCURACY"
   ]
  },
  {
   "cell_type": "code",
   "execution_count": 39,
   "id": "52b449d0",
   "metadata": {},
   "outputs": [
    {
     "data": {
      "image/png": "[encoded data removed]",
      "text/plain": [
       "<Figure size 432x288 with 1 Axes>"
      ]
     },
     "metadata": {
      "needs_background": "light"
     },
     "output_type": "display_data"
    }
   ],
   "source": [
    "fig=plt.figure()\n",
    "plt.plot(histL.history['accuracy'],color='teal',label='accuracy')\n",
    "plt.plot(histL.history['val_accuracy'],color='red',label='val_accuracy')\n",
    "fig.suptitle('accuracy',fontsize='20')\n",
    "plt.legend(loc='upper left')\n",
    "plt.show()"
   ]
  },
  {
   "cell_type": "code",
   "execution_count": 40,
   "id": "1d982228",
   "metadata": {},
   "outputs": [
    {
     "name": "stdout",
     "output_type": "stream",
     "text": [
      "1/1 [==============================] - 0s 235ms/step - loss: 25.1394 - accuracy: 0.4667\n",
      "Loss = 25.139423370361328\n",
      "Test Accuracy = 0.46666666865348816\n"
     ]
    }
   ],
   "source": [
    "preds = Lenet.evaluate(X_test, Y_test)\n",
    "print (\"Loss = \" + str(preds[0]))\n",
    "print (\"Test Accuracy = \" + str(preds[1]))"
   ]
  },
  {
   "cell_type": "markdown",
   "id": "2d616dc7",
   "metadata": {},
   "source": [
    "# VGG16"
   ]
  },
  {
   "cell_type": "code",
   "execution_count": 50,
   "id": "b26de6d7",
   "metadata": {},
   "outputs": [],
   "source": [
    "VGG16 = Sequential()\n",
    "VGG16.add(Conv2D(input_shape=(256,512,3),filters=64,kernel_size=(3,3),padding=\"same\", activation=\"relu\"))\n",
    "VGG16.add(Conv2D(filters=64,kernel_size=(3,3),padding=\"same\", activation=\"relu\"))\n",
    "VGG16.add(MaxPool2D(pool_size=(2,2),strides=(2,2)))\n",
    "VGG16.add(Conv2D(filters=128, kernel_size=(3,3), padding=\"same\", activation=\"relu\"))\n",
    "VGG16.add(Conv2D(filters=128, kernel_size=(3,3), padding=\"same\", activation=\"relu\"))\n",
    "VGG16.add(MaxPool2D(pool_size=(2,2),strides=(2,2)))\n",
    "VGG16.add(Conv2D(filters=256, kernel_size=(3,3), padding=\"same\", activation=\"relu\"))\n",
    "VGG16.add(Conv2D(filters=256, kernel_size=(3,3), padding=\"same\", activation=\"relu\"))\n",
    "VGG16.add(Conv2D(filters=256, kernel_size=(3,3), padding=\"same\", activation=\"relu\"))\n",
    "VGG16.add(MaxPool2D(pool_size=(2,2),strides=(2,2)))\n",
    "VGG16.add(Conv2D(filters=512, kernel_size=(3,3), padding=\"same\", activation=\"relu\"))\n",
    "VGG16.add(Conv2D(filters=512, kernel_size=(3,3), padding=\"same\", activation=\"relu\"))\n",
    "VGG16.add(Conv2D(filters=512, kernel_size=(3,3), padding=\"same\", activation=\"relu\"))\n",
    "VGG16.add(MaxPool2D(pool_size=(2,2),strides=(2,2)))\n",
    "VGG16.add(Conv2D(filters=512, kernel_size=(3,3), padding=\"same\", activation=\"relu\"))\n",
    "VGG16.add(Conv2D(filters=512, kernel_size=(3,3), padding=\"same\", activation=\"relu\"))\n",
    "VGG16.add(Conv2D(filters=512, kernel_size=(3,3), padding=\"same\", activation=\"relu\"))\n",
    "VGG16.add(MaxPool2D(pool_size=(2,2),strides=(2,2)))\n",
    "VGG16.add(layers.Flatten())\n",
    "VGG16.add(layers.Dense(4096, activation='relu'))\n",
    "VGG16.add(layers.Dense(4096, activation='relu'))\n",
    "VGG16.add(layers.Dense(1, activation='softmax'))"
   ]
  },
  {
   "cell_type": "code",
   "execution_count": 51,
   "id": "309457a0",
   "metadata": {},
   "outputs": [
    {
     "name": "stdout",
     "output_type": "stream",
     "text": [
      "Model: \"sequential_8\"\n",
      "_________________________________________________________________\n",
      " Layer (type)                Output Shape              Param #   \n",
      "=================================================================\n",
      " conv2d_39 (Conv2D)          (None, 256, 512, 64)      1792      \n",
      "                                                                 \n",
      " conv2d_40 (Conv2D)          (None, 256, 512, 64)      36928     \n",
      "                                                                 \n",
      " max_pooling2d_13 (MaxPoolin  (None, 128, 256, 64)     0         \n",
      " g2D)                                                            \n",
      "                                                                 \n",
      " conv2d_41 (Conv2D)          (None, 128, 256, 128)     73856     \n",
      "                                                                 \n",
      " conv2d_42 (Conv2D)          (None, 128, 256, 128)     147584    \n",
      "                                                                 \n",
      " max_pooling2d_14 (MaxPoolin  (None, 64, 128, 128)     0         \n",
      " g2D)                                                            \n",
      "                                                                 \n",
      " conv2d_43 (Conv2D)          (None, 64, 128, 256)      295168    \n",
      "                                                                 \n",
      " conv2d_44 (Conv2D)          (None, 64, 128, 256)      590080    \n",
      "                                                                 \n",
      " conv2d_45 (Conv2D)          (None, 64, 128, 256)      590080    \n",
      "                                                                 \n",
      " max_pooling2d_15 (MaxPoolin  (None, 32, 64, 256)      0         \n",
      " g2D)                                                            \n",
      "                                                                 \n",
      " conv2d_46 (Conv2D)          (None, 32, 64, 512)       1180160   \n",
      "                                                                 \n",
      " conv2d_47 (Conv2D)          (None, 32, 64, 512)       2359808   \n",
      "                                                                 \n",
      " conv2d_48 (Conv2D)          (None, 32, 64, 512)       2359808   \n",
      "                                                                 \n",
      " max_pooling2d_16 (MaxPoolin  (None, 16, 32, 512)      0         \n",
      " g2D)                                                            \n",
      "                                                                 \n",
      " conv2d_49 (Conv2D)          (None, 16, 32, 512)       2359808   \n",
      "                                                                 \n",
      " conv2d_50 (Conv2D)          (None, 16, 32, 512)       2359808   \n",
      "                                                                 \n",
      " conv2d_51 (Conv2D)          (None, 16, 32, 512)       2359808   \n",
      "                                                                 \n",
      " max_pooling2d_17 (MaxPoolin  (None, 8, 16, 512)       0         \n",
      " g2D)                                                            \n",
      "                                                                 \n",
      " flatten_4 (Flatten)         (None, 65536)             0         \n",
      "                                                                 \n",
      " dense_12 (Dense)            (None, 4096)              268439552 \n",
      "                                                                 \n",
      " dense_13 (Dense)            (None, 4096)              16781312  \n",
      "                                                                 \n",
      " dense_14 (Dense)            (None, 1)                 4097      \n",
      "                                                                 \n",
      "=================================================================\n",
      "Total params: 299,939,649\n",
      "Trainable params: 299,939,649\n",
      "Non-trainable params: 0\n",
      "_________________________________________________________________\n"
     ]
    }
   ],
   "source": [
    "VGG16.compile('adam',loss=tf.losses.BinaryCrossentropy(),metrics=['accuracy'])\n",
    "VGG16.summary()"
   ]
  },
  {
   "cell_type": "code",
   "execution_count": null,
   "id": "76a070cc",
   "metadata": {},
   "outputs": [
    {
     "name": "stdout",
     "output_type": "stream",
     "text": [
      "Epoch 1/5\n"
     ]
    }
   ],
   "source": [
    "histV = VGG16.fit(X_train,Y_train,\n",
    "          epochs=5,\n",
    "          validation_data=(X_val,Y_val),\n",
    "          validation_freq=1,\n",
    "          callbacks=[tensorboard_callback])"
   ]
  },
  {
   "cell_type": "markdown",
   "id": "e44da09e",
   "metadata": {},
   "source": [
    "# PLOTING LOSS FUNCTION AND VALIDATION LOSS VS EPOCHS"
   ]
  },
  {
   "cell_type": "code",
   "execution_count": null,
   "id": "96512ae5",
   "metadata": {},
   "outputs": [],
   "source": [
    "fig=plt.figure()\n",
    "plt.plot(histV.history['loss'][1:],color='teal',label='loss',)\n",
    "plt.plot(histV.history['val_loss'][1:],color='red',label='val_loss')\n",
    "fig.suptitle('loss',fontsize='20')\n",
    "plt.legend(loc='upper left')\n",
    "plt.show()"
   ]
  },
  {
   "cell_type": "markdown",
   "id": "5b725f89",
   "metadata": {},
   "source": [
    "# PLOTTING ACCURACY"
   ]
  },
  {
   "cell_type": "code",
   "execution_count": null,
   "id": "4169a7af",
   "metadata": {},
   "outputs": [],
   "source": [
    "fig=plt.figure()\n",
    "plt.plot(histV.history['accuracy'],color='teal',label='accuracy')\n",
    "plt.plot(histV.history['val_accuracy'],color='red',label='val_accuracy')\n",
    "fig.suptitle('accuracy',fontsize='20')\n",
    "plt.legend(loc='upper left')\n",
    "plt.show()"
   ]
  },
  {
   "cell_type": "code",
   "execution_count": null,
   "id": "68ae802b",
   "metadata": {},
   "outputs": [],
   "source": [
    "preds = VGG16.evaluate(X_test, Y_test)\n",
    "print (\"Loss = \" + str(preds[0]))\n",
    "print (\"Test Accuracy = \" + str(preds[1]))"
   ]
  },
  {
   "cell_type": "markdown",
   "id": "253e38ec",
   "metadata": {},
   "source": [
    "# MobileNet Implementation"
   ]
  },
  {
   "cell_type": "code",
   "execution_count": null,
   "id": "5ff8bce6",
   "metadata": {},
   "outputs": [],
   "source": [
    "import tensorflow as tf\n",
    "from tensorflow.keras import layers\n",
    "\n",
    "def conv_block(inputs, filters, kernel_size, strides):\n",
    "    x = layers.Conv2D(filters, kernel_size, strides=strides, padding='same')(inputs)\n",
    "    x = layers.BatchNormalization()(x)\n",
    "    x = tf.nn.relu6(x)\n",
    "    return x\n",
    "\n",
    "def bottleneck(inputs, filters, kernel_size, expansion, strides, alpha):\n",
    "    in_channels = inputs.shape[-1]\n",
    "    out_channels = filters * alpha\n",
    "\n",
    "    x = conv_block(inputs, in_channels * expansion, kernel_size=(1, 1), strides=(1, 1))\n",
    "    x = layers.DepthwiseConv2D(kernel_size, strides=strides, padding='same')(x)\n",
    "    x = layers.BatchNormalization()(x)\n",
    "    x = tf.nn.relu6(x)\n",
    "\n",
    "    x = conv_block(x, out_channels, kernel_size=(1, 1), strides=(1, 1))\n",
    "    return x\n",
    "\n",
    "def MobileNetV3(input_shape, num_classes, alpha=1.0):\n",
    "    inputs = layers.Input(shape=input_shape)\n",
    "    x = conv_block(inputs, 16, kernel_size=(3, 3), strides=(2, 2))\n",
    "\n",
    "    x = bottleneck(x, 16, kernel_size=(3, 3), expansion=1, strides=1, alpha=alpha)\n",
    "    x = bottleneck(x, 24, kernel_size=(3, 3), expansion=4, strides=2, alpha=alpha)\n",
    "    x = bottleneck(x, 24, kernel_size=(3, 3), expansion=3, strides=1, alpha=alpha)\n",
    "    x = bottleneck(x, 40, kernel_size=(5, 5), expansion=3, strides=2, alpha=alpha)\n",
    "    x = bottleneck(x, 40, kernel_size=(5, 5), expansion=3, strides=1, alpha=alpha)\n",
    "    x = bottleneck(x, 40, kernel_size=(5, 5), expansion=3, strides=1, alpha=alpha)\n",
    "    x = bottleneck(x, 80, kernel_size=(3, 3), expansion=6, strides=2, alpha=alpha)\n",
    "    x = bottleneck(x, 80, kernel_size=(3, 3), expansion=6, strides=1, alpha=alpha)\n",
    "    x = bottleneck(x, 80, kernel_size=(3, 3), expansion=6, strides=1, alpha=alpha)\n",
    "    x = bottleneck(x, 80, kernel_size=(3, 3), expansion=6, strides=1, alpha=alpha)\n",
    "    x = bottleneck(x, 112, kernel_size=(5, 5), expansion=6, strides=1, alpha=alpha)\n",
    "    x = bottleneck(x, 112, kernel_size=(5, 5), expansion=6, strides=1, alpha=alpha)\n",
    "    x = bottleneck(x, 160, kernel_size=(5, 5), expansion=6, strides=2, alpha=alpha)\n",
    "    x = bottleneck(x, 160, kernel_size=(5, 5), expansion=6, strides=1, alpha=alpha)\n",
    "    x = bottleneck(x, 160, kernel_size=(5, 5), expansion=6, strides=1, alpha=alpha)\n",
    "    x = conv_block(x, 960, kernel_size=(1, 1), strides=(1, 1))\n",
    "    x = layers.GlobalAveragePooling2D()(x)\n",
    "    x = layers.Reshape((1, 1, 960))(x)\n",
    "    x = layers.Conv2D(num_classes, kernel_size=(1, 1), strides=(1, 1), padding='same')(x)\n",
    "    x = layers.Flatten()(x)\n",
    "    x = layers.Softmax()(x)\n",
    "\n",
    "    model = tf.keras.Model(inputs, x)\n",
    "    return model\n",
    "input_shape = (256,512, 3)\n",
    "num_classes = 2\n",
    "MobileNet = MobileNetV3(input_shape, num_classes, alpha=1.0)"
   ]
  },
  {
   "cell_type": "code",
   "execution_count": null,
   "id": "dc0568c5",
   "metadata": {},
   "outputs": [],
   "source": [
    "MobileNet.compile('adam',loss=tf.losses.BinaryCrossentropy(),metrics=['accuracy'])\n",
    "MobileNet.summary()"
   ]
  },
  {
   "cell_type": "code",
   "execution_count": null,
   "id": "e00c84ed",
   "metadata": {},
   "outputs": [],
   "source": [
    "MobileNet.fit(X_train,Y_train,\n",
    "          epochs=50,\n",
    "          validation_data=(X_val,Y_val),\n",
    "          validation_freq=1,\n",
    "          callbacks=[tensorboard_callback])"
   ]
  },
  {
   "cell_type": "markdown",
   "id": "dd34f876",
   "metadata": {},
   "source": [
    "# PLOTING LOSS FUNCTION AND VALIDATION LOSS VS EPOCHS"
   ]
  },
  {
   "cell_type": "code",
   "execution_count": null,
   "id": "d62cfeba",
   "metadata": {},
   "outputs": [],
   "source": [
    "fig=plt.figure()\n",
    "plt.plot(hist.history['loss'][1:],color='teal',label='loss',)\n",
    "plt.plot(hist.history['val_loss'][1:],color='red',label='val_loss')\n",
    "fig.suptitle('loss',fontsize='20')\n",
    "plt.legend(loc='upper left')\n",
    "plt.show()"
   ]
  },
  {
   "cell_type": "markdown",
   "id": "acb4d744",
   "metadata": {},
   "source": [
    "# PLOTTING ACCURACY"
   ]
  },
  {
   "cell_type": "code",
   "execution_count": null,
   "id": "8eb02fc9",
   "metadata": {},
   "outputs": [],
   "source": [
    "fig=plt.figure()\n",
    "plt.plot(hist.history['accuracy'],color='teal',label='accuracy')\n",
    "plt.plot(hist.history['val_accuracy'],color='red',label='val_accuracy')\n",
    "fig.suptitle('accuracy',fontsize='20')\n",
    "plt.legend(loc='upper left')\n",
    "plt.show()"
   ]
  },
  {
   "cell_type": "code",
   "execution_count": null,
   "id": "4b712494",
   "metadata": {},
   "outputs": [],
   "source": [
    "preds = MobileNet.evaluate(X_test, Y_test)\n",
    "print (\"Loss = \" + str(preds[0]))\n",
    "print (\"Test Accuracy = \" + str(preds[1]))"
   ]
  },
  {
   "cell_type": "code",
   "execution_count": null,
   "id": "b39b0178-b976-4733-bf84-d786f3cf7fea",
   "metadata": {},
   "outputs": [],
   "source": [
    "img=cv2.imread('LAMINAR_TEST.png')\n",
    "img=cv2.cvtColor(img,cv2.COLOR_BGR2RGB)\n",
    "plt.imshow(img)\n",
    "plt.show()"
   ]
  },
  {
   "cell_type": "code",
   "execution_count": null,
   "id": "90a7b75d-6cf9-4614-8903-6d0a6b0fd5bc",
   "metadata": {
    "tags": []
   },
   "outputs": [],
   "source": [
    "resized_image= tf.image.resize(img,(256,512))\n",
    "plt.imshow(resized_image.numpy().astype(int))\n",
    "plt.show()"
   ]
  },
  {
   "cell_type": "code",
   "execution_count": null,
   "id": "c17294d0-ee6e-42e8-859e-0ebdb71957c0",
   "metadata": {
    "tags": []
   },
   "outputs": [],
   "source": [
    "numpy.expand_dims(resized_image,0).shape"
   ]
  },
  {
   "cell_type": "code",
   "execution_count": null,
   "id": "31eaa34a-1898-4197-9df1-3dc867ffbf61",
   "metadata": {},
   "outputs": [],
   "source": [
    "result= MobileNet.predict(numpy.expand_dims(resized_image/255, 0))\n",
    "if result>=0.5:\n",
    "    print(f'TURBULENT FLOW!, accuracy of prediction = {result}')\n",
    "else:\n",
    "    print(f'LAMINAR FLOW!, accuracy of prediction = {1 - result}')"
   ]
  },
  {
   "cell_type": "code",
   "execution_count": null,
   "id": "ca7394b5-c8f0-41b8-b8b5-f1d912e7e0b8",
   "metadata": {},
   "outputs": [],
   "source": [
    "img=cv2.imread('TURBULENT_TEST.png')\n",
    "img= cv2.cvtColor(img ,cv2.COLOR_BGR2RGB)\n",
    "plt.imshow(img)\n",
    "plt.show()"
   ]
  },
  {
   "cell_type": "code",
   "execution_count": null,
   "id": "e3384109-f463-44d2-98ce-af1ce1ac6d88",
   "metadata": {},
   "outputs": [],
   "source": [
    "resized_image= tf.image.resize(img,(256,512))\n",
    "plt.imshow(resized_image.numpy().astype(int))\n",
    "plt.show()"
   ]
  },
  {
   "cell_type": "code",
   "execution_count": null,
   "id": "67ae9ddd-c13e-4925-90c5-c5fa377f2890",
   "metadata": {},
   "outputs": [],
   "source": [
    "result= MobileNet.predict(numpy.expand_dims(resized_image/255, 0))\n",
    "if result>=0.5:\n",
    "    print(f'TURBULENT FLOW!, Accuracy of prediction = {result}')\n",
    "else:\n",
    "    print(f'LAMINAR FLOW!, Accuracy of prediction = {1 - result}')"
   ]
  },
  {
   "cell_type": "markdown",
   "id": "a2b2f69a",
   "metadata": {},
   "source": [
    "# RESNET 50"
   ]
  },
  {
   "cell_type": "code",
   "execution_count": null,
   "id": "799d2531",
   "metadata": {},
   "outputs": [],
   "source": [
    "import tensorflow as tf\n",
    "from tensorflow.keras import layers\n",
    "\n",
    "def conv_block(inputs, filters, kernel_size, strides):\n",
    "    x = layers.Conv2D(filters, kernel_size, strides=strides, padding='same')(inputs)\n",
    "    x = layers.BatchNormalization()(x)\n",
    "    x = layers.Activation('relu')(x)\n",
    "    return x\n",
    "\n",
    "def identity_block(inputs, filters):\n",
    "    x = conv_block(inputs, filters, kernel_size=(3, 3), strides=(1, 1))\n",
    "    x = layers.Conv2D(filters, (3, 3), padding='same')(x)\n",
    "    x = layers.BatchNormalization()(x)\n",
    "    x = layers.Add()([x, inputs])\n",
    "    x = layers.Activation('relu')(x)\n",
    "    return x\n",
    "\n",
    "def conv_block_with_projection(inputs, filters, strides):\n",
    "    x = conv_block(inputs, filters, kernel_size=(3, 3), strides=strides)\n",
    "    x = layers.Conv2D(filters, (3, 3), padding='same')(x)\n",
    "    x = layers.BatchNormalization()(x)\n",
    "    shortcut = layers.Conv2D(filters, (1, 1), strides=strides)(inputs)\n",
    "    shortcut = layers.BatchNormalization()(shortcut)\n",
    "    x = layers.Add()([x, shortcut])\n",
    "    x = layers.Activation('relu')(x)\n",
    "    return x\n",
    "\n",
    "def ResNet(input_shape, num_classes):\n",
    "    inputs = layers.Input(shape=input_shape)\n",
    "\n",
    "    x = conv_block(inputs, 64, kernel_size=(7, 7), strides=(2, 2))\n",
    "    x = layers.MaxPooling2D(pool_size=(3, 3), strides=(2, 2), padding='same')(x)\n",
    "\n",
    "    x = conv_block_with_projection(x, 64, strides=(1, 1))\n",
    "    x = identity_block(x, 64)\n",
    "    x = identity_block(x, 64)\n",
    "\n",
    "    x = conv_block_with_projection(x, 128, strides=(2, 2))\n",
    "    x = identity_block(x, 128)\n",
    "    x = identity_block(x, 128)\n",
    "\n",
    "    x = conv_block_with_projection(x, 256, strides=(2, 2))\n",
    "    x = identity_block(x, 256)\n",
    "    x = identity_block(x, 256)\n",
    "\n",
    "    x = conv_block_with_projection(x, 512, strides=(2, 2))\n",
    "    x = identity_block(x, 512)\n",
    "    x = identity_block(x, 512)\n",
    "\n",
    "    x = layers.GlobalAveragePooling2D()(x)\n",
    "    x = layers.Dense(num_classes, activation='softmax')(x)\n",
    "\n",
    "    model = tf.keras.Model(inputs, x)\n",
    "    return model\n",
    "\n",
    "# Example usage\n",
    "input_shape = (224, 224, 3)\n",
    "num_classes = 2\n",
    "ResNet = ResNet(input_shape, num_classes)\n"
   ]
  },
  {
   "cell_type": "code",
   "execution_count": null,
   "id": "63246a1d",
   "metadata": {},
   "outputs": [],
   "source": [
    "ResNet.compile('adam',loss=tf.losses.BinaryCrossentropy(),metrics=['accuracy'])\n",
    "ResNet.summary()"
   ]
  },
  {
   "cell_type": "code",
   "execution_count": null,
   "id": "2a05cb92",
   "metadata": {},
   "outputs": [],
   "source": [
    "ResNet.fit(X_train,Y_train,\n",
    "          epochs=50,\n",
    "          validation_data=(X_val,Y_val),\n",
    "          validation_freq=1,\n",
    "          callbacks=[tensorboard_callback])"
   ]
  },
  {
   "cell_type": "markdown",
   "id": "a3a9a18e",
   "metadata": {},
   "source": [
    "# PLOTING LOSS FUNCTION AND VALIDATION LOSS VS EPOCHS"
   ]
  },
  {
   "cell_type": "code",
   "execution_count": null,
   "id": "94aee837",
   "metadata": {},
   "outputs": [],
   "source": [
    "fig=plt.figure()\n",
    "plt.plot(hist.history['loss'][1:],color='teal',label='loss',)\n",
    "plt.plot(hist.history['val_loss'][1:],color='red',label='val_loss')\n",
    "fig.suptitle('loss',fontsize='20')\n",
    "plt.legend(loc='upper left')\n",
    "plt.show()"
   ]
  },
  {
   "cell_type": "markdown",
   "id": "388b2776",
   "metadata": {},
   "source": [
    "# PLOTTING ACCURACY"
   ]
  },
  {
   "cell_type": "code",
   "execution_count": null,
   "id": "5f6c013d",
   "metadata": {},
   "outputs": [],
   "source": [
    "fig=plt.figure()\n",
    "plt.plot(hist.history['accuracy'],color='teal',label='accuracy')\n",
    "plt.plot(hist.history['val_accuracy'],color='red',label='val_accuracy')\n",
    "fig.suptitle('accuracy',fontsize='20')\n",
    "plt.legend(loc='upper left')\n",
    "plt.show()"
   ]
  },
  {
   "cell_type": "code",
   "execution_count": null,
   "id": "2efec19c",
   "metadata": {},
   "outputs": [],
   "source": [
    "preds = ResNet.evaluate(X_test, Y_test)\n",
    "print (\"Loss = \" + str(preds[0]))\n",
    "print (\"Test Accuracy = \" + str(preds[1]))"
   ]
  },
  {
   "cell_type": "code",
   "execution_count": null,
   "id": "4fc9a4ee",
   "metadata": {},
   "outputs": [],
   "source": [
    "img=cv2.imread('LAMINAR_TEST.png')\n",
    "img=cv2.cvtColor(img,cv2.COLOR_BGR2RGB)\n",
    "plt.imshow(img)\n",
    "plt.show()"
   ]
  },
  {
   "cell_type": "code",
   "execution_count": null,
   "id": "d297c0fe",
   "metadata": {},
   "outputs": [],
   "source": [
    "resized_image= tf.image.resize(img,(256,512))\n",
    "plt.imshow(resized_image.numpy().astype(int))\n",
    "plt.show()"
   ]
  },
  {
   "cell_type": "code",
   "execution_count": null,
   "id": "31491b1b",
   "metadata": {},
   "outputs": [],
   "source": [
    "numpy.expand_dims(resized_image,0).shape"
   ]
  },
  {
   "cell_type": "code",
   "execution_count": null,
   "id": "30c06215",
   "metadata": {},
   "outputs": [],
   "source": [
    "result= ResNet.predict(numpy.expand_dims(resized_image/255, 0))\n",
    "if result>=0.5:\n",
    "    print(f'TURBULENT FLOW!, accuracy of prediction = {result}')\n",
    "else:\n",
    "    print(f'LAMINAR FLOW!, accuracy of prediction = {1 - result}')"
   ]
  },
  {
   "cell_type": "code",
   "execution_count": null,
   "id": "04c73f66",
   "metadata": {},
   "outputs": [],
   "source": [
    "img=cv2.imread('TURBULENT_TEST.png')\n",
    "img= cv2.cvtColor(img ,cv2.COLOR_BGR2RGB)\n",
    "plt.imshow(img)\n",
    "plt.show()"
   ]
  },
  {
   "cell_type": "code",
   "execution_count": null,
   "id": "b4587060",
   "metadata": {},
   "outputs": [],
   "source": [
    "resized_image= tf.image.resize(img,(256,512))\n",
    "plt.imshow(resized_image.numpy().astype(int))\n",
    "plt.show()"
   ]
  },
  {
   "cell_type": "code",
   "execution_count": null,
   "id": "23d28dc4",
   "metadata": {},
   "outputs": [],
   "source": [
    "result= ResNet.predict(numpy.expand_dims(resized_image/255, 0))\n",
    "if result>=0.5:\n",
    "    print(f'TURBULENT FLOW!, Accuracy of prediction = {result}')\n",
    "else:\n",
    "    print(f'LAMINAR FLOW!, Accuracy of prediction = {1 - result}')"
   ]
  },
  {
   "cell_type": "code",
   "execution_count": null,
   "id": "1f505ef7",
   "metadata": {},
   "outputs": [],
   "source": []
  }
 ],
 "metadata": {
  "kernelspec": {
   "display_name": "Python 3 (ipykernel)",
   "language": "python",
   "name": "python3"
  },
  "language_info": {
   "codemirror_mode": {
    "name": "ipython",
    "version": 3
   },
   "file_extension": ".py",
   "mimetype": "text/x-python",
   "name": "python",
   "nbconvert_exporter": "python",
   "pygments_lexer": "ipython3",
   "version": "3.9.12"
  }
 },
 "nbformat": 4,
 "nbformat_minor": 5
}
